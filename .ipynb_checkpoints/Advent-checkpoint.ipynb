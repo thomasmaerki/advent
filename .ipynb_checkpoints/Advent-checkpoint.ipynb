{
 "cells": [
  {
   "cell_type": "code",
   "execution_count": 24,
   "metadata": {},
   "outputs": [],
   "source": [
    "import os\n",
    "import numpy as np \n",
    "import pandas as pd"
   ]
  },
  {
   "cell_type": "code",
   "execution_count": 31,
   "metadata": {},
   "outputs": [
    {
     "data": {
      "text/plain": [
       "72330"
      ]
     },
     "execution_count": 31,
     "metadata": {},
     "output_type": "execute_result"
    }
   ],
   "source": [
    "# Day 1 / Part II\n",
    "from collections import Counter\n",
    "\n",
    "data_path = os.path.join(os.getcwd(), 'inputs/frequencies.csv')\n",
    "freq1 = pd.read_csv(data_path, delimiter = ',')\n",
    "freq = freq1['frequency'].values\n",
    "\n",
    "def freq_check(array):\n",
    "    cumsum = array.cumsum()\n",
    "    while [item for item, count in Counter(cumsum).items() if count > 1] == []:\n",
    "        array = np.append(array,array)\n",
    "        cumsum = array.cumsum()\n",
    "    return cumsum\n",
    "\n",
    "def firstDuplicate(a):\n",
    "    set_ = set()\n",
    "    for item in a:\n",
    "        if item in set_:\n",
    "            return item\n",
    "        set_.add(item)\n",
    "    return None\n",
    "\n",
    "firstDuplicate(freq_check(freq))"
   ]
  },
  {
   "cell_type": "code",
   "execution_count": 32,
   "metadata": {},
   "outputs": [
    {
     "data": {
      "text/plain": [
       "5952"
      ]
     },
     "execution_count": 32,
     "metadata": {},
     "output_type": "execute_result"
    }
   ],
   "source": [
    "# Day 2 / Part I\n",
    "IDs = np.loadtxt('inputs/input.txt', dtype=str)\n",
    "\n",
    "def checksum(IDs):\n",
    "    from collections import Counter\n",
    "    two_counts = []\n",
    "    three_counts = []\n",
    "    for item in IDs:\n",
    "        counts = Counter(item).items()\n",
    "        twos = [count for item, count in counts if count == 2]\n",
    "        threes = [count for item, count in counts if count == 3]\n",
    "        if twos != []:\n",
    "            two_counts.append(1)\n",
    "        if threes != []:\n",
    "            three_counts.append(1)\n",
    "    return sum(two_counts)*sum(three_counts)\n",
    "\n",
    "checksum(IDs)"
   ]
  },
  {
   "cell_type": "code",
   "execution_count": 27,
   "metadata": {},
   "outputs": [
    {
     "name": "stdout",
     "output_type": "stream",
     "text": [
      "krdmtuqjgwfoevnaboxyglzjph\n",
      "krdmtuqjgwfoevnaboxpglzjph\n"
     ]
    }
   ],
   "source": [
    "# Day 2 / Part II \n",
    "def IDs_compare(ID1, ID2):\n",
    "    counts = []\n",
    "    for i in range(0,len(ID1)):\n",
    "        if ID1[i] == ID2[i]:\n",
    "            counts.append(1)\n",
    "    return sum(counts)\n",
    "\n",
    "for j in range(0,len(IDs)):           \n",
    "    for i in range(j+1,len(IDs)):\n",
    "        if IDs_compare(IDs[j],IDs[i]) == 25:\n",
    "            print(IDs[j])\n",
    "            print(IDs[i])"
   ]
  },
  {
   "cell_type": "code",
   "execution_count": 30,
   "metadata": {},
   "outputs": [
    {
     "data": {
      "text/plain": [
       "116140"
      ]
     },
     "execution_count": 30,
     "metadata": {},
     "output_type": "execute_result"
    }
   ],
   "source": [
    "# Day 3 / Part I\n",
    "\n",
    "# Import data\n",
    "import re\n",
    "file = open('inputs/input_3.txt', mode='r')\n",
    "claims = []\n",
    "for line in file:\n",
    "    claims.append(re.split(' |,|x|\\n|:',line))\n",
    "for i in range(0,len(claims)):\n",
    "    del claims[i][7]\n",
    "    del claims[i][4]\n",
    "    del claims[i][1]\n",
    "\n",
    "# Create 1050x1050 grid and add +1 to each element, which is claimed\n",
    "grid = np.zeros((1050,1050),dtype=int)\n",
    "for c in range(0,len(claims)):\n",
    "    claim = claims[c]\n",
    "    left = int(claim[1])\n",
    "    top = int(claim[2])\n",
    "    wide = int(claim[3])\n",
    "    tall = int(claim[4])\n",
    "    for i in range(0,tall):\n",
    "        for j in range(0,wide):\n",
    "            grid[top+i,left+j] += 1\n",
    "            \n",
    "# Print number of elements that have more than one claim            \n",
    "len(np.where(grid >= 2)[0])"
   ]
  },
  {
   "cell_type": "code",
   "execution_count": 29,
   "metadata": {},
   "outputs": [
    {
     "data": {
      "text/plain": [
       "1397"
      ]
     },
     "execution_count": 29,
     "metadata": {},
     "output_type": "execute_result"
    }
   ],
   "source": [
    "len(claims)"
   ]
  },
  {
   "cell_type": "code",
   "execution_count": null,
   "metadata": {},
   "outputs": [],
   "source": []
  }
 ],
 "metadata": {
  "kernelspec": {
   "display_name": "Python 3",
   "language": "python",
   "name": "python3"
  },
  "language_info": {
   "codemirror_mode": {
    "name": "ipython",
    "version": 3
   },
   "file_extension": ".py",
   "mimetype": "text/x-python",
   "name": "python",
   "nbconvert_exporter": "python",
   "pygments_lexer": "ipython3",
   "version": "3.6.5"
  }
 },
 "nbformat": 4,
 "nbformat_minor": 2
}
